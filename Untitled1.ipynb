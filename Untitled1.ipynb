{
 "cells": [
  {
   "cell_type": "code",
   "execution_count": 1,
   "id": "efa7c2a8",
   "metadata": {},
   "outputs": [],
   "source": [
    "import pandas as pd\n",
    "import csv\n",
    "import os"
   ]
  },
  {
   "cell_type": "code",
   "execution_count": 2,
   "id": "0fc813b5",
   "metadata": {},
   "outputs": [],
   "source": [
    "file_to_load = os.path.join(\"Resources\", \"election_results.csv\")\n",
    "file_to_save = os.path.join(\"analysis\", \"election_analysis.txt\")"
   ]
  },
  {
   "cell_type": "code",
   "execution_count": 3,
   "id": "596e1908",
   "metadata": {},
   "outputs": [
    {
     "data": {
      "text/html": [
       "<div>\n",
       "<style scoped>\n",
       "    .dataframe tbody tr th:only-of-type {\n",
       "        vertical-align: middle;\n",
       "    }\n",
       "\n",
       "    .dataframe tbody tr th {\n",
       "        vertical-align: top;\n",
       "    }\n",
       "\n",
       "    .dataframe thead th {\n",
       "        text-align: right;\n",
       "    }\n",
       "</style>\n",
       "<table border=\"1\" class=\"dataframe\">\n",
       "  <thead>\n",
       "    <tr style=\"text-align: right;\">\n",
       "      <th></th>\n",
       "      <th>Ballot ID</th>\n",
       "      <th>County</th>\n",
       "      <th>Candidate</th>\n",
       "    </tr>\n",
       "  </thead>\n",
       "  <tbody>\n",
       "    <tr>\n",
       "      <th>0</th>\n",
       "      <td>1323913</td>\n",
       "      <td>Jefferson</td>\n",
       "      <td>Charles Casper Stockham</td>\n",
       "    </tr>\n",
       "    <tr>\n",
       "      <th>1</th>\n",
       "      <td>1005842</td>\n",
       "      <td>Jefferson</td>\n",
       "      <td>Charles Casper Stockham</td>\n",
       "    </tr>\n",
       "    <tr>\n",
       "      <th>2</th>\n",
       "      <td>1880345</td>\n",
       "      <td>Jefferson</td>\n",
       "      <td>Charles Casper Stockham</td>\n",
       "    </tr>\n",
       "    <tr>\n",
       "      <th>3</th>\n",
       "      <td>1600337</td>\n",
       "      <td>Jefferson</td>\n",
       "      <td>Charles Casper Stockham</td>\n",
       "    </tr>\n",
       "    <tr>\n",
       "      <th>4</th>\n",
       "      <td>1835994</td>\n",
       "      <td>Jefferson</td>\n",
       "      <td>Charles Casper Stockham</td>\n",
       "    </tr>\n",
       "  </tbody>\n",
       "</table>\n",
       "</div>"
      ],
      "text/plain": [
       "   Ballot ID     County                Candidate\n",
       "0    1323913  Jefferson  Charles Casper Stockham\n",
       "1    1005842  Jefferson  Charles Casper Stockham\n",
       "2    1880345  Jefferson  Charles Casper Stockham\n",
       "3    1600337  Jefferson  Charles Casper Stockham\n",
       "4    1835994  Jefferson  Charles Casper Stockham"
      ]
     },
     "execution_count": 3,
     "metadata": {},
     "output_type": "execute_result"
    }
   ],
   "source": [
    "election_df = pd.read_csv(file_to_load)\n",
    "election_df.head()"
   ]
  },
  {
   "cell_type": "code",
   "execution_count": 4,
   "id": "856ef99f",
   "metadata": {},
   "outputs": [],
   "source": [
    "# Initialize a total vote counter.\n",
    "total_votes = 0\n",
    "# Candidate Options and candidate votes.\n",
    "candidate_options = []\n",
    "candidate_votes = {}\n",
    "# 1: Create a county list and county votes dictionary.\n",
    "county_options = []\n",
    "county_votes = {}\n",
    "# Track the winning candidate, vote count and percentage\n",
    "winning_candidate = \"\"\n",
    "winning_count = 0\n",
    "winning_percentage = 0\n",
    "# 2: Track the largest county and county voter turnout.\n",
    "largest_turnout_county = \"\"\n",
    "largest_turnout_count = 0\n",
    "largest_turnout_percentage = 0"
   ]
  },
  {
   "cell_type": "code",
   "execution_count": 5,
   "id": "a2436ec6",
   "metadata": {},
   "outputs": [],
   "source": [
    "# Read the csv and convert it into a list of dictionaries\n",
    "with open(file_to_load) as election_data:\n",
    "    reader = csv.reader(election_data)\n",
    "    # Read the header\n",
    "    header = next(reader)\n",
    "    # For each row in the CSV file.\n",
    "    for row in reader:\n",
    "        # Add to the total vote count\n",
    "        total_votes += 1\n",
    "        # Get the candidate name from each row.\n",
    "        candidate_name = row[2]\n",
    "        # 3: Extract the county name from each row.\n",
    "        county_name = row[1]\n",
    "        # If the candidate does not match any existing candidate add it to\n",
    "        # the candidate list\n",
    "        if candidate_name not in candidate_options:\n",
    "            # Add the candidate name to the candidate list.\n",
    "            candidate_options.append(candidate_name)\n",
    "            # And begin tracking that candidate's voter count.\n",
    "            candidate_votes[candidate_name] = 0\n",
    "        # Add a vote to that candidate's count\n",
    "        candidate_votes[candidate_name] += 1\n",
    "\n",
    "        # 4a: Write an if statement that checks that the\n",
    "        # county does not match any existing county in the county list.\n",
    "        if county_name not in county_options:\n",
    "            # 4b: Add the existing county to the list of counties.\n",
    "            county_options.append(county_name)\n",
    "            # 4c: Begin tracking the county's vote count.\n",
    "            county_votes[county_name] = 0\n",
    "        # 5: Add a vote to that county's vote count.\n",
    "        county_votes[county_name] += 1"
   ]
  },
  {
   "cell_type": "code",
   "execution_count": 6,
   "id": "56e3d3cd",
   "metadata": {},
   "outputs": [
    {
     "name": "stdout",
     "output_type": "stream",
     "text": [
      "\n",
      "Election Results\n",
      "-------------------------\n",
      "Total Votes: 369,711\n",
      "-------------------------\n",
      "\n",
      "County Votes:\n"
     ]
    }
   ],
   "source": [
    "# Print the final vote count (to terminal)\n",
    "election_results = (\n",
    "    f\"\\nElection Results\\n\"\n",
    "    f\"-------------------------\\n\"\n",
    "    f\"Total Votes: {total_votes:,}\\n\"\n",
    "    f\"-------------------------\\n\\n\"\n",
    "    f\"County Votes:\\n\")\n",
    "print(election_results, end=\"\")"
   ]
  },
  {
   "cell_type": "code",
   "execution_count": 7,
   "id": "ae0273a3",
   "metadata": {},
   "outputs": [
    {
     "name": "stdout",
     "output_type": "stream",
     "text": [
      "Jefferson: 10.5% (38,855)\n",
      "\n",
      "Denver: 82.8% (306,055)\n",
      "\n",
      "Arapahoe: 6.7% (24,801)\n",
      "\n"
     ]
    }
   ],
   "source": [
    "for county_name in county_votes:\n",
    "        # 6b: Retrieve the county vote count.\n",
    "        votes = county_votes[county_name]\n",
    "        # 6c: Calculate the percentage of votes for the county.\n",
    "        vote_percentage = float(votes) / float(total_votes) * 100\n",
    "        # 6d: Print the county results to the terminal.\n",
    "        county_results = (f\"{county_name}: {vote_percentage:.1f}% ({votes:,})\\n\")\n",
    "        print(county_results)     "
   ]
  },
  {
   "cell_type": "code",
   "execution_count": 8,
   "id": "50834f98",
   "metadata": {},
   "outputs": [],
   "source": [
    "# 6f: Write an if statement to determine the winning county and get its vote count.\n",
    "if (votes > largest_turnout_count) and (vote_percentage > largest_turnout_percentage):\n",
    "    largest_turnout_count = votes\n",
    "    largest_turnout_county = county_name\n",
    "    largest_turnout_percentage = vote_percentage"
   ]
  },
  {
   "cell_type": "code",
   "execution_count": 9,
   "id": "e616233f",
   "metadata": {},
   "outputs": [
    {
     "name": "stdout",
     "output_type": "stream",
     "text": [
      "\n",
      "-------------------------\n",
      "Largest County Turnout: Arapahoe\n",
      "-------------------------\n",
      "\n"
     ]
    }
   ],
   "source": [
    "largest_turnout_county_summary = (\n",
    "    f\"\\n\"\n",
    "    f\"-------------------------\\n\"\n",
    "    f\"Largest County Turnout: {largest_turnout_county}\\n\"\n",
    "    f\"-------------------------\\n\")\n",
    "print(largest_turnout_county_summary)"
   ]
  },
  {
   "cell_type": "code",
   "execution_count": 10,
   "id": "d057f146",
   "metadata": {},
   "outputs": [
    {
     "name": "stdout",
     "output_type": "stream",
     "text": [
      "Charles Casper Stockham: 23.0% (85,213)\n",
      "Diana DeGette: 73.8% (272,892)\n",
      "Raymon Anthony Doane: 3.1% (11,606)\n"
     ]
    }
   ],
   "source": [
    "# Save the final candidate vote count to the text file.\n",
    "for candidate_name in candidate_votes:\n",
    "\n",
    "    # Retrieve vote count and percentage\n",
    "    votes = candidate_votes.get(candidate_name)\n",
    "    vote_percentage = float(votes) / float(total_votes) * 100\n",
    "    candidate_results = (f\"{candidate_name}: {vote_percentage:.1f}% ({votes:,})\")\n",
    "\n",
    "    # Print each candidate's voter count and percentage to the terminal.\n",
    "    print(candidate_results)\n",
    "    \n",
    "    # Determine winning vote count, winning percentage, and candidate.\n",
    "    if (votes > winning_count) and (vote_percentage > winning_percentage):\n",
    "        winning_count = votes\n",
    "        winning_candidate = candidate_name\n",
    "        winning_percentage = vote_percentage"
   ]
  },
  {
   "cell_type": "code",
   "execution_count": 11,
   "id": "ea6c72a6",
   "metadata": {},
   "outputs": [
    {
     "name": "stdout",
     "output_type": "stream",
     "text": [
      "-------------------------\n",
      "Winner: Diana DeGette\n",
      "Winning Vote Count: 272,892\n",
      "Winning Percentage: 73.8%\n",
      "-------------------------\n",
      "\n"
     ]
    }
   ],
   "source": [
    "# Print the winning candidate (to terminal)\n",
    "winning_candidate_summary = (\n",
    "    f\"-------------------------\\n\"\n",
    "    f\"Winner: {winning_candidate}\\n\"\n",
    "    f\"Winning Vote Count: {winning_count:,}\\n\"\n",
    "    f\"Winning Percentage: {winning_percentage:.1f}%\\n\"\n",
    "    f\"-------------------------\\n\")\n",
    "print(winning_candidate_summary)"
   ]
  },
  {
   "cell_type": "code",
   "execution_count": 16,
   "id": "36b827a0",
   "metadata": {},
   "outputs": [
    {
     "name": "stdout",
     "output_type": "stream",
     "text": [
      "\n",
      "Election Results\n",
      "-------------------------\n",
      "Total Votes: 369,711\n",
      "-------------------------\n",
      "\n",
      "County Votes:\n",
      "\n",
      "Arapahoe: 6.7% (24,801)\n",
      "\n",
      "\n",
      "-------------------------\n",
      "Largest County Turnout: Arapahoe\n",
      "-------------------------\n",
      "\n",
      "Raymon Anthony Doane: 3.1% (11,606)\n",
      "-------------------------\n",
      "Winner: Diana DeGette\n",
      "Winning Vote Count: 272,892\n",
      "Winning Percentage: 73.8%\n",
      "-------------------------\n",
      "\n"
     ]
    }
   ],
   "source": [
    "print(election_results)\n",
    "print(county_results)\n",
    "print(largest_turnout_county_summary)\n",
    "print(candidate_results)\n",
    "print(winning_candidate_summary)"
   ]
  },
  {
   "cell_type": "code",
   "execution_count": null,
   "id": "e5425221",
   "metadata": {},
   "outputs": [],
   "source": []
  }
 ],
 "metadata": {
  "kernelspec": {
   "display_name": "Python 3",
   "language": "python",
   "name": "python3"
  },
  "language_info": {
   "codemirror_mode": {
    "name": "ipython",
    "version": 3
   },
   "file_extension": ".py",
   "mimetype": "text/x-python",
   "name": "python",
   "nbconvert_exporter": "python",
   "pygments_lexer": "ipython3",
   "version": "3.7.10"
  }
 },
 "nbformat": 4,
 "nbformat_minor": 5
}
